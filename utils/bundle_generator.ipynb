{
 "cells": [
  {
   "cell_type": "code",
   "execution_count": 0,
   "metadata": {
    "application/vnd.databricks.v1+cell": {
     "cellMetadata": {
      "byteLimit": 2048000,
      "rowLimit": 10000
     },
     "inputWidgets": {},
     "nuid": "4e4ba827-58bf-49d1-81db-a2f128a13907",
     "showTitle": false,
     "tableResultSettingsMap": {},
     "title": ""
    }
   },
   "outputs": [],
   "source": [
    "%pip install pyaml"
   ]
  },
  {
   "cell_type": "code",
   "execution_count": 0,
   "metadata": {
    "application/vnd.databricks.v1+cell": {
     "cellMetadata": {
      "byteLimit": 2048000,
      "rowLimit": 10000
     },
     "inputWidgets": {},
     "nuid": "5142d424-3a12-4e24-9370-eac3266391d9",
     "showTitle": false,
     "tableResultSettingsMap": {},
     "title": ""
    }
   },
   "outputs": [],
   "source": [
    "import yaml\n",
    "from copy import deepcopy"
   ]
  },
  {
   "cell_type": "code",
   "execution_count": 0,
   "metadata": {
    "application/vnd.databricks.v1+cell": {
     "cellMetadata": {
      "byteLimit": 2048000,
      "rowLimit": 10000
     },
     "inputWidgets": {},
     "nuid": "fc715306-f111-41cd-9993-c6bc28b560c2",
     "showTitle": true,
     "tableResultSettingsMap": {},
     "title": "Update me"
    }
   },
   "outputs": [],
   "source": [
    "tasks_to_configure = {\n",
    "    \"myAppShortname\": {\n",
    "        \"app_id\": \"example_value_use_name_not_guid\",\n",
    "        \"day_start_hour\": \"7\",\n",
    "        \"day_end_hour\": \"19\",\n",
    "    }\n",
    "}"
   ]
  },
  {
   "cell_type": "code",
   "execution_count": 0,
   "metadata": {
    "application/vnd.databricks.v1+cell": {
     "cellMetadata": {
      "byteLimit": 2048000,
      "rowLimit": 10000
     },
     "inputWidgets": {},
     "nuid": "36f4e1b3-3b83-4cff-8764-05b2be8ce3af",
     "showTitle": true,
     "tableResultSettingsMap": {},
     "title": "Run me"
    }
   },
   "outputs": [],
   "source": [
    "general_tasks_settings = {\n",
    "    \"task_key\": \"\",\n",
    "    \"notebook_task\": {\n",
    "        \"notebook_path\": \"../src/toggle_state_notebook.ipynb\",\n",
    "        \"source\": \"WORKSPACE\",\n",
    "        \"base_parameters\": {},\n",
    "    },\n",
    "}\n",
    "\n",
    "overall_file_dict = {\n",
    "    \"resources\": {\n",
    "        \"jobs\": {\n",
    "            \"toggle_apps_job_demo\": {\n",
    "                \"name\": \"ToggleAppStateJob\",\n",
    "                \"tasks\": [],\n",
    "                \"performance_target\": \"STANDARD\",\n",
    "                \"schedule\": {\n",
    "                    \"quartz_cron_expression\": \"24 10 8,19 * * ?\",\n",
    "                    \"timezone_id\": \"UTC\",\n",
    "                },\n",
    "            }\n",
    "        }\n",
    "    }\n",
    "}\n",
    "\n",
    "for app_short_id, app_config in tasks_to_configure.items():\n",
    "    my_task_settings = deepcopy(general_tasks_settings)\n",
    "    my_task_settings[\"task_key\"] = f\"toggle_demo_{app_short_id}\"\n",
    "    my_task_settings[\"notebook_task\"][\"base_parameters\"].update(app_config)\n",
    "    overall_file_dict[\"resources\"][\"jobs\"][\"toggle_apps_job_demo\"][\"tasks\"].append(\n",
    "        my_task_settings\n",
    "    )\n",
    "\n",
    "\n",
    "with open(\"../resources/pipelines.yml\", \"w\") as pipes_file:\n",
    "    yaml.dump(overall_file_dict, pipes_file)"
   ]
  },
  {
   "cell_type": "code",
   "execution_count": 0,
   "metadata": {
    "application/vnd.databricks.v1+cell": {
     "cellMetadata": {},
     "inputWidgets": {},
     "nuid": "a710c482-f30e-4c55-8c43-e8cb04e870b7",
     "showTitle": false,
     "tableResultSettingsMap": {},
     "title": ""
    }
   },
   "outputs": [],
   "source": []
  }
 ],
 "metadata": {
  "application/vnd.databricks.v1+notebook": {
   "computePreferences": null,
   "dashboards": [],
   "environmentMetadata": {
    "base_environment": "",
    "environment_version": "4"
   },
   "inputWidgetPreferences": null,
   "language": "python",
   "notebookMetadata": {
    "pythonIndentUnit": 2
   },
   "notebookName": "bundle_generator",
   "widgets": {}
  },
  "language_info": {
   "name": "python"
  }
 },
 "nbformat": 4,
 "nbformat_minor": 0
}
