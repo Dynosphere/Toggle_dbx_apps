{
 "cells": [
  {
   "cell_type": "code",
   "execution_count": 0,
   "metadata": {
    "application/vnd.databricks.v1+cell": {
     "cellMetadata": {
      "byteLimit": 2048000,
      "rowLimit": 10000
     },
     "inputWidgets": {},
     "nuid": "a728396b-732d-49e5-8f5d-83e44e9a10a8",
     "showTitle": false,
     "tableResultSettingsMap": {},
     "title": ""
    }
   },
   "outputs": [],
   "source": [
    "dbutils.widgets.text('app_id', defaultValue='')\n",
    "dbutils.widgets.text('day_start_hour', defaultValue='7')\n",
    "dbutils.widgets.text('day_end_hour', defaultValue='19')\n",
    "\n",
    "APP_ID = dbutils.widgets.get('app_id') # name not GUID\n",
    "day_start_hour = int(dbutils.widgets.get('day_start_hour'))\n",
    "day_end_hour = int(dbutils.widgets.get('day_end_hour'))\n",
    "\n",
    "assert APP_ID, \"No app_id provided, exiting...\"\n"
   ]
  },
  {
   "cell_type": "code",
   "execution_count": 0,
   "metadata": {
    "application/vnd.databricks.v1+cell": {
     "cellMetadata": {
      "byteLimit": 2048000,
      "rowLimit": 10000
     },
     "inputWidgets": {},
     "nuid": "82f7a4ff-0a38-42c5-ab23-f7ca94df5fca",
     "showTitle": false,
     "tableResultSettingsMap": {},
     "title": ""
    }
   },
   "outputs": [],
   "source": [
    "from datetime import datetime\n",
    "from databricks.sdk import WorkspaceClient\n",
    "\n",
    "workspace_client = WorkspaceClient()\n",
    "\n",
    "current_hour = datetime.now().hour\n",
    "\n",
    "if day_start_hour <= current_hour < day_end_hour:\n",
    "    # Daytime: Start the app\n",
    "    workspace_client.apps.start(APP_ID)\n",
    "else:\n",
    "    # Nighttime: Stop the app\n",
    "    workspace_client.apps.stop(APP_ID)"
   ]
  },
  {
   "cell_type": "code",
   "execution_count": 0,
   "metadata": {
    "application/vnd.databricks.v1+cell": {
     "cellMetadata": {},
     "inputWidgets": {},
     "nuid": "b104a0ee-96ee-414d-98a5-d3b1bb268c6f",
     "showTitle": false,
     "tableResultSettingsMap": {},
     "title": ""
    }
   },
   "outputs": [],
   "source": []
  }
 ],
 "metadata": {
  "application/vnd.databricks.v1+notebook": {
   "computePreferences": null,
   "dashboards": [],
   "environmentMetadata": {
    "base_environment": "",
    "environment_version": "4"
   },
   "inputWidgetPreferences": null,
   "language": "python",
   "notebookMetadata": {
    "pythonIndentUnit": 2
   },
   "notebookName": "toggle_state_notebook",
   "widgets": {
    "app_id": {
     "currentValue": "axa-ignite-test-bot-001",
     "nuid": "12faba4d-25b0-49a7-9937-cfbb0aa95492",
     "typedWidgetInfo": {
      "autoCreated": false,
      "defaultValue": "",
      "label": null,
      "name": "app_id",
      "options": {
       "widgetDisplayType": "Text",
       "validationRegex": null
      },
      "parameterDataType": "String"
     },
     "widgetInfo": {
      "widgetType": "text",
      "defaultValue": "",
      "label": null,
      "name": "app_id",
      "options": {
       "widgetType": "text",
       "autoCreated": null,
       "validationRegex": null
      }
     }
    },
    "day_end_hour": {
     "currentValue": "19",
     "nuid": "48b99633-6125-4775-aeb5-a694353131ba",
     "typedWidgetInfo": {
      "autoCreated": false,
      "defaultValue": "19",
      "label": null,
      "name": "day_end_hour",
      "options": {
       "widgetDisplayType": "Text",
       "validationRegex": null
      },
      "parameterDataType": "String"
     },
     "widgetInfo": {
      "widgetType": "text",
      "defaultValue": "19",
      "label": null,
      "name": "day_end_hour",
      "options": {
       "widgetType": "text",
       "autoCreated": null,
       "validationRegex": null
      }
     }
    },
    "day_start_hour": {
     "currentValue": "7",
     "nuid": "7fef8a37-e898-4227-a7d9-5e646b8c662a",
     "typedWidgetInfo": {
      "autoCreated": false,
      "defaultValue": "7",
      "label": null,
      "name": "day_start_hour",
      "options": {
       "widgetDisplayType": "Text",
       "validationRegex": null
      },
      "parameterDataType": "String"
     },
     "widgetInfo": {
      "widgetType": "text",
      "defaultValue": "7",
      "label": null,
      "name": "day_start_hour",
      "options": {
       "widgetType": "text",
       "autoCreated": null,
       "validationRegex": null
      }
     }
    }
   }
  },
  "language_info": {
   "name": "python"
  }
 },
 "nbformat": 4,
 "nbformat_minor": 0
}
